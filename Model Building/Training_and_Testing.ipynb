{
  "nbformat": 4,
  "nbformat_minor": 0,
  "metadata": {
    "colab": {
      "provenance": []
    },
    "kernelspec": {
      "name": "python3",
      "display_name": "Python 3"
    },
    "language_info": {
      "name": "python"
    }
  },
  "cells": [
    {
      "cell_type": "markdown",
      "source": [
        "Training and Testing the model"
      ],
      "metadata": {
        "id": "VqDsUSuEjLlV"
      }
    },
    {
      "cell_type": "code",
      "source": [
        "from google.colab import drive\n",
        "drive.mount('/content/drive')"
      ],
      "metadata": {
        "id": "Eg8uFXAOjOgD"
      },
      "execution_count": null,
      "outputs": []
    },
    {
      "cell_type": "markdown",
      "source": [
        "Mounted at /content/drive"
      ],
      "metadata": {
        "id": "CrIgVQc9jW42"
      }
    },
    {
      "cell_type": "code",
      "source": [
        "import pandas as pd\n",
        "import matplotlib.pyplot as plt\n",
        "import numpy as np\n",
        "import seaborn as sns\n"
      ],
      "metadata": {
        "id": "0OfPl3BkjZxX"
      },
      "execution_count": null,
      "outputs": []
    },
    {
      "cell_type": "code",
      "source": [
        "data=pd.read_csv('/content/drive/MyDrive/data/Admission_Predict.csv')"
      ],
      "metadata": {
        "id": "kpZCBQpeje-d"
      },
      "execution_count": null,
      "outputs": []
    },
    {
      "cell_type": "code",
      "source": [
        "data.head()"
      ],
      "metadata": {
        "id": "b66pgdIgjhl7"
      },
      "execution_count": null,
      "outputs": []
    },
    {
      "cell_type": "code",
      "source": [
        "Serial No.\tGRE Score\tTOEFL Score\tUniversity Rating\tSOP\tLOR\tCGPA\tResearch\tChance of Admit\n",
        "\t      1\t        337\t       118\t             4   \t4.5\t4.5\t9.65\t     1           \t0.92\n",
        "\t      2\t        324\t       107               4  \t4.0\t4.5\t8.87\t     1          \t0.76\n",
        "\t      3\t        316\t       104\t             3  \t3.0\t3.5\t8.00\t     1          \t0.72\n",
        "\t      4\t        322\t       110\t             3\t  3.5\t2.5\t8.67       1          \t0.80\n",
        "       \t5\t        314\t       103\t             2\t  2.0\t3.0\t8.21     \t 0          \t0.65"
      ],
      "metadata": {
        "id": "noe_zKA2jl1A"
      },
      "execution_count": null,
      "outputs": []
    },
    {
      "cell_type": "code",
      "source": [
        "x=data.drop(['Chance of Admit '],axis=1) \n",
        "y=data['Chance of Admit ']"
      ],
      "metadata": {
        "id": "7Aq_CkOfjpPz"
      },
      "execution_count": null,
      "outputs": []
    },
    {
      "cell_type": "code",
      "source": [
        "from sklearn.model_selection import train_test_split \n",
        "x_train, x_test, y_train, y_test = train_test_split(x, y, test_size=0.15)\n"
      ],
      "metadata": {
        "id": "_fU4BCVDjsCk"
      },
      "execution_count": null,
      "outputs": []
    },
    {
      "cell_type": "code",
      "source": [
        "x_train"
      ],
      "metadata": {
        "id": "h5U-j4p8jvy8"
      },
      "execution_count": null,
      "outputs": []
    },
    {
      "cell_type": "code",
      "source": [
        "Serial No.\tGRE Score\tTOEFL Score\tUniversity Rating\tSOP\tLOR\tCGPA\tResearch\n",
        "        335\t      336 325\t111                 \t4\t  4.0\t4.5\t9.11      1\n",
        "        105\t      106\t316\t110\t                  3\t  4.0\t4.5\t8.78\t    1\n",
        "        67\t       68\t316\t107                  \t2\t  3.5\t3.5\t8.64\t    1\n",
        "        326\t      327\t299\t100\t                  3\t  2.0\t2.0\t8.02      0\n",
        "        240\t      241\t296\t101\t                  1\t  2.5\t3.0\t7.68     \t0\n",
        "...\t...\t...\t...\t...\t...\t...\t...\t...\n",
        "151\t152\t332\t116\t5\t5.0\t5.0\t9.28\t1\n",
        "314\t315\t305\t105\t2\t3.0\t4.0\t8.13\t0\n",
        "22\t23\t328\t116\t5\t5.0\t5.0\t9.50\t1\n",
        "8\t9\t302\t102\t1\t2.0\t1.5\t8.00\t0\n",
        "51\t52\t312\t100\t2\t1.5\t3.5\t7.90\t1\n",
        "340 rows × 8 columns\n",
        "\n"
      ],
      "metadata": {
        "id": "gLnocelojz31"
      },
      "execution_count": null,
      "outputs": []
    },
    {
      "cell_type": "code",
      "source": [
        "y_train\n"
      ],
      "metadata": {
        "id": "G2BmtNpDj2w5"
      },
      "execution_count": null,
      "outputs": []
    },
    {
      "cell_type": "code",
      "source": [
        "335    0.83\n",
        "105    0.69\n",
        "67     0.57\n",
        "326    0.63\n",
        "240    0.60\n",
        "       ... \n",
        "151    0.94\n",
        "314    0.66\n",
        "22     0.94\n",
        "8      0.50\n",
        "51     0.56\n",
        "Name: Chance of Admit , Length: 340, dtype: float64\n"
      ],
      "metadata": {
        "id": "yOFqkbFvj6Hf"
      },
      "execution_count": null,
      "outputs": []
    },
    {
      "cell_type": "code",
      "source": [
        "Serial No.\tGRE Score\tTOEFL Score\tUniversity Rating\tSOP\tLOR\tCGPA\tResearch\n",
        "369\t370\t301\t98\t1\t2.0\t3.0\t8.03\t1\n",
        "172\t173\t322\t110\t4\t4.0\t5.0\t9.13\t1\n",
        "110\t111\t305\t108\t5\t3.0\t3.0\t8.48\t0\n",
        "340\t341\t312\t107\t3\t3.0\t3.0\t8.46\t1\n",
        "74\t75\t314\t106\t3\t3.0\t5.0\t8.90\t0\n",
        "78\t79\t296\t95\t2\t3.0\t2.0\t7.54\t1\n",
        "265\t266\t313\t102\t3\t2.5\t2.5\t8.68\t0\n",
        "251\t252\t316\t99\t2\t2.5\t3.0\t9.00\t0\n",
        "115\t116\t310\t106\t4\t4.5\t4.5\t9.04\t1\n",
        "21\t22\t325\t114\t4\t3.0\t2.0\t8.40\t0\n",
        "133\t134\t323\t112\t5\t4.0\t4.5\t8.78\t0\n",
        "85\t86\t319\t103\t4\t4.5\t3.5\t8.66\t0\n",
        "145\t146\t320\t113\t2\t2.0\t2.5\t8.64\t1\n",
        "18\t19\t318\t110\t3\t4.0\t3.0\t8.80\t0\n",
        "239\t240\t299\t100\t1\t1.5\t2.0\t7.89\t0\n",
        "348\t349\t302\t99\t1\t2.0\t2.0\t7.25\t0\n",
        "88\t89\t314\t108\t3\t4.5\t3.5\t8.14\t0\n",
        "217\t218\t321\t109\t4\t4.0\t4.0\t9.13\t1\n",
        "342\t343\t308\t106\t3\t3.0\t3.0\t8.24\t0\n",
        "205\t206\t295\t99\t2\t2.5\t3.0\t7.65\t0\n",
        "92\t93\t298\t98\t2\t4.0\t3.0\t8.03\t0\n",
        "128\t129\t326\t112\t3\t3.5\t3.0\t9.10\t1\n",
        "301\t302\t319\t108\t2\t2.5\t3.0\t8.76\t0\n",
        "222\t223\t324\t113\t4\t4.5\t4.0\t8.79\t0\n",
        "270\t271\t306\t105\t2\t2.5\t3.0\t8.22\t1\n",
        "91\t92\t299\t97\t3\t5.0\t3.5\t7.66\t0\n",
        "230\t231\t313\t104\t3\t4.0\t4.5\t8.65\t0\n",
        "300\t301\t309\t106\t2\t2.5\t2.5\t8.00\t0\n",
        "297\t298\t320\t120\t3\t4.0\t4.5\t9.11\t0\n",
        "181\t182\t305\t107\t2\t2.5\t2.5\t8.42\t0\n",
        "49\t50\t327\t111\t4\t3.0\t4.0\t8.40\t1\n",
        "113\t114\t320\t110\t2\t4.0\t3.5\t8.56\t0\n",
        "333\t334\t319\t108\t3\t3.0\t3.5\t8.54\t1\n",
        "102\t103\t314\t106\t2\t4.0\t3.5\t8.25\t0\n",
        "266\t267\t312\t105\t2\t2.0\t2.5\t8.45\t0\n",
        "204\t205\t298\t105\t3\t3.5\t4.0\t8.54\t0\n",
        "29\t30\t310\t99\t2\t1.5\t2.0\t7.30\t0\n",
        "374\t375\t315\t105\t2\t2.0\t2.5\t7.65\t0\n",
        "75\t76\t329\t114\t2\t2.0\t4.0\t8.56\t1\n",
        "170\t171\t312\t101\t2\t2.5\t3.5\t8.04\t1\n",
        "225\t226\t296\t99\t2\t2.5\t2.5\t8.03\t0\n",
        "31\t32\t327\t103\t3\t4.0\t4.0\t8.30\t1\n",
        "93\t94\t301\t97\t2\t3.0\t3.0\t7.88\t1\n",
        "153\t154\t324\t105\t3\t3.0\t4.0\t8.75\t0\n",
        "14\t15\t311\t104\t3\t3.5\t2.0\t8.20\t1\n",
        "391\t392\t318\t106\t3\t2.0\t3.0\t8.65\t0\n",
        "220\t221\t313\t103\t3\t4.0\t4.0\t8.75\t0\n",
        "228\t229\t318\t112\t3\t4.0\t3.5\t8.67\t0\n",
        "396\t397\t325\t107\t3\t3.0\t3.5\t9.11\t1\n",
        "16\t17\t317\t107\t3\t4.0\t3.0\t8.70\t0\n",
        "11\t12\t327\t111\t4\t4.0\t4.5\t9.00\t1\n",
        "157\t158\t309\t104\t2\t2.0\t2.5\t8.26\t0\n",
        "96\t97\t306\t100\t2\t3.0\t3.0\t8.00\t0\n",
        "5\t6\t330\t115\t5\t4.5\t3.0\t9.34\t1\n",
        "94\t95\t303\t99\t3\t2.0\t2.5\t7.66\t0\n",
        "174\t175\t321\t111\t4\t4.0\t4.0\t8.97\t1\n",
        "44\t45\t326\t113\t5\t4.5\t4.0\t9.40\t1\n",
        "136\t137\t312\t103\t3\t5.0\t4.0\t8.45\t0\n",
        "368\t369\t298\t92\t1\t2.0\t2.0\t7.88\t0\n",
        "4\t5\t314\t103\t2\t2.0\t3.0\t8.21\t0"
      ],
      "metadata": {
        "id": "8wqbBxsEkA7h"
      },
      "execution_count": null,
      "outputs": []
    },
    {
      "cell_type": "code",
      "source": [
        "y_test"
      ],
      "metadata": {
        "id": "c_t4DhyYkDuD"
      },
      "execution_count": null,
      "outputs": []
    },
    {
      "cell_type": "code",
      "source": [
        "369    0.67\n",
        "172    0.86\n",
        "110    0.61\n",
        "340    0.75\n",
        "74     0.74\n",
        "78     0.44\n",
        "265    0.71\n",
        "251    0.70\n",
        "115    0.66\n",
        "21     0.70\n",
        "133    0.79\n",
        "85     0.76\n",
        "145    0.81\n",
        "18     0.63\n",
        "239    0.59\n",
        "348    0.57\n",
        "88     0.64\n",
        "217    0.85\n",
        "342    0.58\n",
        "205    0.57\n",
        "92     0.34\n",
        "128    0.84\n",
        "301    0.66\n",
        "222    0.76\n",
        "270    0.72\n",
        "91     0.38\n",
        "230    0.73\n",
        "300    0.62\n",
        "297    0.86\n",
        "181    0.71\n",
        "49     0.78\n",
        "113    0.72\n",
        "333    0.71\n",
        "102    0.62\n",
        "266    0.72\n",
        "204    0.69\n",
        "29     0.54\n",
        "374    0.39\n",
        "75     0.72\n",
        "170    0.68\n",
        "225    0.61\n",
        "31     0.74\n",
        "93     0.44\n",
        "153    0.79\n",
        "14     0.61\n",
        "391    0.71\n",
        "220    0.76\n",
        "228    0.71\n",
        "396    0.84\n",
        "16     0.66\n",
        "11     0.84\n",
        "157    0.65\n",
        "96     0.48\n",
        "5      0.90\n",
        "94     0.36\n",
        "174    0.87\n",
        "44     0.91\n",
        "136    0.76\n",
        "368    0.51\n",
        "4      0.65\n",
        "Name: Chance of Admit , dtype: float64"
      ],
      "metadata": {
        "id": "JuR0G_mKkKkl"
      },
      "execution_count": null,
      "outputs": []
    }
  ]
}