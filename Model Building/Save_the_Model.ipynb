{
  "nbformat": 4,
  "nbformat_minor": 0,
  "metadata": {
    "colab": {
      "provenance": []
    },
    "kernelspec": {
      "name": "python3",
      "display_name": "Python 3"
    },
    "language_info": {
      "name": "python"
    }
  },
  "cells": [
    {
      "cell_type": "code",
      "execution_count": null,
      "metadata": {
        "id": "QXiSKznMdEd6"
      },
      "outputs": [],
      "source": [
        "from google.colab import drive\n",
        "drive.mount('/content/drive')\n"
      ]
    },
    {
      "cell_type": "markdown",
      "source": [
        "Mounted at /content/drive"
      ],
      "metadata": {
        "id": "m3GTLrN5dOIA"
      }
    },
    {
      "cell_type": "markdown",
      "source": [
        "Importing the Libraries"
      ],
      "metadata": {
        "id": "lFs3T7LhdSR9"
      }
    },
    {
      "cell_type": "code",
      "source": [
        "import pandas as pd\n",
        "import matplotlib.pyplot as plt\n",
        "import numpy as np\n",
        "import seaborn as sns"
      ],
      "metadata": {
        "id": "FbGmmOusdWNr"
      },
      "execution_count": null,
      "outputs": []
    },
    {
      "cell_type": "markdown",
      "source": [
        "Loading the Dataset"
      ],
      "metadata": {
        "id": "QdbqoLARdZS6"
      }
    },
    {
      "cell_type": "code",
      "source": [
        "data=pd.read_csv('/content/drive/MyDrive/data/Admission_Predict.csv')\n"
      ],
      "metadata": {
        "id": "t4V8AB7bdcEE"
      },
      "execution_count": null,
      "outputs": []
    },
    {
      "cell_type": "markdown",
      "source": [
        "Analyze the data\n"
      ],
      "metadata": {
        "id": "z1V_H-kRde5p"
      }
    },
    {
      "cell_type": "code",
      "source": [
        "data.head()\n"
      ],
      "metadata": {
        "id": "dq0A3JQ_dits"
      },
      "execution_count": null,
      "outputs": []
    },
    {
      "cell_type": "code",
      "source": [
        "Serial No.\tGRE Score\tTOEFL Score\tUniversity Rating\tSOP\tLOR\tCGPA\tResearch\tChance of Admit\n",
        "\t      1        \t337\t        118\t               4\t4.5\t4.5\t9.65       \t1\t            0.92\n",
        "\t      2        \t324\t        107\t               4\t4.0\t4.5\t8.87\t      1            \t0.76\n",
        "\t      3\t        316\t        104\t               3\t3.0\t3.5\t8.00\t      1\t            0.72\n",
        "\t      4\t        322\t        110\t               3\t3.5\t2.5\t8.67\t      1\t            0.80\n",
        "\t      5\t        314\t        103\t               2\t2.0\t3.0\t8.21\t      0\t            0.6"
      ],
      "metadata": {
        "id": "yCXn_u_sdmYF"
      },
      "execution_count": null,
      "outputs": []
    },
    {
      "cell_type": "code",
      "source": [
        "data.tail()\n"
      ],
      "metadata": {
        "id": "KTNgHUAPeH3V"
      },
      "execution_count": null,
      "outputs": []
    },
    {
      "cell_type": "code",
      "source": [
        "Serial No.\tGRE Score\tTOEFL Score\tUniversity Rating\tSOP\tLOR\tCGPA\tResearch\tChance of Admit\n",
        "                   395\t      396\t324\t110\t3\t3.5\t3.5\t9.04\t1\t0.82\n",
        "                   396\t      397\t325\t107\t3\t3.0\t3.5\t9.11\t1\t0.84\n",
        "                   397\t      398\t330\t116\t4\t5.0\t4.5\t9.45\t1\t0.91\n",
        "                   398\t      399\t312\t103\t3\t3.5\t4.0\t8.78\t0\t0.67\n",
        "                   399\t      400\t333\t117\t4\t5.0\t4.0\t9.66\t1\t0.95"
      ],
      "metadata": {
        "id": "CIrXtyXJeLPR"
      },
      "execution_count": null,
      "outputs": []
    },
    {
      "cell_type": "code",
      "source": [
        "data.drop([\"Serial No.\"],axis=1,inplace=True)\n",
        "data.head()\n"
      ],
      "metadata": {
        "id": "Ye5ySoL5eP6L"
      },
      "execution_count": null,
      "outputs": []
    },
    {
      "cell_type": "code",
      "source": [
        "GRE Score\tTOEFL Score\tUniversity Rating\tSOP\tLOR\tCGPA\tResearch\tChance of Admit\n",
        "0\t337\t118\t4\t4.5\t4.5\t9.65\t1\t0.92\n",
        "1\t324\t107\t4\t4.0\t4.5\t8.87\t1\t0.76\n",
        "2\t316\t104\t3\t3.0\t3.5\t8.00\t1\t0.72\n",
        "3\t322\t110\t3\t3.5\t2.5\t8.67\t1\t0.80\n",
        "4\t314\t103\t2\t2.0\t3.0\t8.21\t0\t0.65"
      ],
      "metadata": {
        "id": "Tb3AEyOXeSyW"
      },
      "execution_count": null,
      "outputs": []
    },
    {
      "cell_type": "code",
      "source": [
        "data.info()\n"
      ],
      "metadata": {
        "id": "ITvQtovIeVpd"
      },
      "execution_count": null,
      "outputs": []
    },
    {
      "cell_type": "code",
      "source": [
        "RangeIndex: 400 entries, 0 to 399\n",
        "Data columns (total 8 columns):\n",
        " #   Column             Non-Null Count  Dtype  \n",
        "---  ------             --------------  -----  \n",
        " 0   GRE Score          400 non-null    int64  \n",
        " 1   TOEFL Score        400 non-null    int64  \n",
        " 2   University Rating  400 non-null    int64  \n",
        " 3   SOP                400 non-null    float64\n",
        " 4   LOR                400 non-null    float64\n",
        " 5   CGPA               400 non-null    float64\n",
        " 6   Research           400 non-null    int64  \n",
        " 7   Chance of Admit    400 non-null    float64\n",
        "dtypes: float64(4), int64(4)\n",
        "memory usage: 25.1 KB"
      ],
      "metadata": {
        "id": "DG0bzw-ieZGG"
      },
      "execution_count": null,
      "outputs": []
    },
    {
      "cell_type": "code",
      "source": [
        "data.describe()\n"
      ],
      "metadata": {
        "id": "2wCW3lDWecmr"
      },
      "execution_count": null,
      "outputs": []
    },
    {
      "cell_type": "code",
      "source": [
        "      GRE Score\t  TOEFL Score\t  University Rating\t     SOP\t    LOR\t           CGPA\t      Research   \tChance of Admit\n",
        "count\t400.000000\t400.000000      \t400.000000\t   400.000000\t  400.000000\t400.000000\t  400.000000\t   400.000000\n",
        "mean\t316.807500\t107.410000\t       3.087500\t      3.400000\t   3.452500\t   8.598925\t     0.547500\t      0.724350\n",
        "std\t   11.473646\t6.069514\t         1.143728\t      1.006869\t   0.898478\t   0.596317\t     0.498362\t      0.142609\n",
        "min\t   290.000000\t92.000000\t         1.000000\t      1.000000\t   1.000000\t   6.800000\t     0.000000\t      0.340000\n",
        "25%\t   308.000000\t103.000000       \t 2.000000\t      2.500000\t   3.000000\t   8.170000\t     0.000000\t      0.640000\n",
        "50%  \t 317.000000\t107.000000\t       3.000000\t      3.500000\t   3.500000\t   8.610000\t     1.000000\t      0.730000\n",
        "75%\t   325.000000\t112.000000\t       4.000000\t      4.000000\t   4.000000\t   9.062500\t     1.000000\t      0.830000\n",
        "max\t   340.000000\t120.000000\t       5.000000\t      5.000000\t   5.000000\t   9.920000\t     1.000000\t      0.970000\n"
      ],
      "metadata": {
        "id": "ixJ5Ae5pegKP"
      },
      "execution_count": null,
      "outputs": []
    },
    {
      "cell_type": "markdown",
      "source": [
        "Handling missing values"
      ],
      "metadata": {
        "id": "Y1ymks-zelKI"
      }
    },
    {
      "cell_type": "code",
      "source": [
        "data.isnull().any()\n"
      ],
      "metadata": {
        "id": "NfQmAJglen8e"
      },
      "execution_count": null,
      "outputs": []
    },
    {
      "cell_type": "code",
      "source": [
        "GRE Score            False\n",
        "TOEFL Score          False\n",
        "University Rating    False\n",
        "SOP                  False\n",
        "LOR                  False\n",
        "CGPA                 False\n",
        "Research             False\n",
        "Chance of Admit      False\n",
        "dtype: bool\n"
      ],
      "metadata": {
        "id": "I3DSG6ZVeqvy"
      },
      "execution_count": null,
      "outputs": []
    },
    {
      "cell_type": "markdown",
      "source": [
        "Data visualization"
      ],
      "metadata": {
        "id": "GYED7mFHeuqw"
      }
    },
    {
      "cell_type": "code",
      "source": [
        "plt.scatter(data['CGPA'],data['Chance of Admit '])\n",
        "plt.show()\n"
      ],
      "metadata": {
        "id": "LLOYuRHGe0Jf"
      },
      "execution_count": null,
      "outputs": []
    },
    {
      "cell_type": "markdown",
      "source": [
        "![image.png](data:image/png;base64,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)"
      ],
      "metadata": {
        "id": "UGWTwMRse4Jr"
      }
    },
    {
      "cell_type": "code",
      "source": [
        "plt.bar(data['GRE Score'],data['Chance of Admit '])\n",
        "plt.show()\n"
      ],
      "metadata": {
        "id": "erQ7oQvXfAZ1"
      },
      "execution_count": null,
      "outputs": []
    },
    {
      "cell_type": "markdown",
      "source": [
        "![image.png](data:image/png;base64,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)"
      ],
      "metadata": {
        "id": "hrWXDioWfDME"
      }
    },
    {
      "cell_type": "markdown",
      "source": [
        "Splitting the dependent and independent column"
      ],
      "metadata": {
        "id": "cnfvXBSIfHtf"
      }
    },
    {
      "cell_type": "code",
      "source": [
        "x=data.iloc[:,0:7].values\n",
        "x.shape\n"
      ],
      "metadata": {
        "id": "GsH6PsNzfKs2"
      },
      "execution_count": null,
      "outputs": []
    },
    {
      "cell_type": "code",
      "source": [
        "(400, 7)"
      ],
      "metadata": {
        "id": "RSIT4BJ3fNqu"
      },
      "execution_count": null,
      "outputs": []
    },
    {
      "cell_type": "code",
      "source": [
        "y=data.iloc[:,7:].values\n",
        "y.shape\n"
      ],
      "metadata": {
        "id": "ECywlPktfQrF"
      },
      "execution_count": null,
      "outputs": []
    },
    {
      "cell_type": "code",
      "source": [
        "(400, 1)"
      ],
      "metadata": {
        "id": "WVyOdCiUfT1K"
      },
      "execution_count": null,
      "outputs": []
    },
    {
      "cell_type": "markdown",
      "source": [
        "Splitting the data into train and test"
      ],
      "metadata": {
        "id": "5odbLlSLfXJv"
      }
    },
    {
      "cell_type": "code",
      "source": [
        "from sklearn.model_selection import train_test_split\n",
        "x_train,x_test,y_train,y_test=train_test_split(x,y,test_size=0.2,random_state=10)"
      ],
      "metadata": {
        "id": "jTxGJXLtfbmk"
      },
      "execution_count": null,
      "outputs": []
    },
    {
      "cell_type": "code",
      "source": [
        "y_train=(y_train>0.5)\n",
        "y_train\n"
      ],
      "metadata": {
        "id": "MPnjeCkwfeEi"
      },
      "execution_count": null,
      "outputs": []
    },
    {
      "cell_type": "code",
      "source": [
        "array([[ True],\n",
        "       [ True],\n",
        "       [ True],\n",
        "       [ True],\n",
        "       [ True],\n",
        "       [ True],\n",
        "       [ True],\n",
        "       [ True],\n",
        "       [ True],\n",
        "       [ True],\n",
        "       [ True],\n",
        "       [ True],\n",
        "       [ True],\n",
        "       [ True],\n",
        "       [ True],\n",
        "       [ True],\n",
        "       [ True],\n",
        "       [ True],\n",
        "       [ True],\n",
        "       [False],\n",
        "       [False],\n",
        "       [ True],\n",
        "       [ True],\n",
        "       [ True],\n",
        "       [ True],\n",
        "       [False],\n",
        "       [ True],\n",
        "       [False],\n",
        "       [ True],\n",
        "       [ True],\n",
        "       [ True],\n",
        "       [ True],\n",
        "       [ True],\n",
        "       [ True],\n",
        "       [False],\n",
        "       [ True],\n",
        "       [ True],\n",
        "       [ True],\n",
        "       [False],\n",
        "       [ True],\n",
        "       [ True],\n",
        "       [ True],\n",
        "       [ True],\n",
        "       [ True],\n",
        "       [ True],\n",
        "       [ True],\n",
        "       [ True],\n",
        "       [ True],\n",
        "       [ True],\n",
        "       [ True],\n",
        "       [ True],\n",
        "       [ True],\n",
        "       [ True],\n",
        "       [ True],\n",
        "       [ True],\n",
        "       [ True],\n",
        "       [ True],\n",
        "       [ True],\n",
        "       [ True],\n",
        "       [ True],\n",
        "       [ True],\n",
        "       [ True],\n",
        "       [ True],\n",
        "       [ True],\n",
        "       [ True],\n",
        "       [ True],\n",
        "       [ True],\n",
        "       [ True],\n",
        "       [ True],\n",
        "       [ True],\n",
        "       [ True],\n",
        "       [ True],\n",
        "       [ True],\n",
        "       [ True],\n",
        "       [ True],\n",
        "       [ True],\n",
        "       [ True],\n",
        "       [ True],\n",
        "       [ True],\n",
        "       [ True],\n",
        "       [False],\n",
        "       [ True],\n",
        "       [ True],\n",
        "       [ True],\n",
        "       [ True],\n",
        "       [ True],\n",
        "       [ True],\n",
        "       [ True],\n",
        "       [False],\n",
        "       [ True],\n",
        "       [ True],\n",
        "       [ True],\n",
        "       [ True],\n",
        "       [ True],\n",
        "       [ True],\n",
        "       [ True],\n",
        "       [ True],\n",
        "       [ True],\n",
        "       [ True],\n",
        "       [ True],\n",
        "       [ True],\n",
        "       [False],\n",
        "       [ True],\n",
        "       [ True],\n",
        "       [ True],\n",
        "       [ True],\n",
        "       [ True],\n",
        "       [ True],\n",
        "       [False],\n",
        "       [ True],\n",
        "       [ True],\n",
        "       [False],\n",
        "       [ True],\n",
        "       [ True],\n",
        "       [ True],\n",
        "       [ True],\n",
        "       [ True],\n",
        "       [ True],\n",
        "       [ True],\n",
        "       [ True],\n",
        "       [ True],\n",
        "       [ True],\n",
        "       [False],\n",
        "       [ True],\n",
        "       [ True],\n",
        "       [ True],\n",
        "       [ True],\n",
        "       [ True],\n",
        "       [ True],\n",
        "       [ True],\n",
        "       [ True],\n",
        "       [ True],\n",
        "       [ True],\n",
        "       [ True],\n",
        "       [ True],\n",
        "       [ True],\n",
        "       [ True],\n",
        "       [ True],\n",
        "       [ True],\n",
        "       [ True],\n",
        "       [ True],\n",
        "       [ True],\n",
        "       [ True],\n",
        "       [ True],\n",
        "       [ True],\n",
        "       [ True],\n",
        "       [ True],\n",
        "       [ True],\n",
        "       [ True],\n",
        "       [ True],\n",
        "       [ True],\n",
        "       [ True],\n",
        "       [ True],\n",
        "       [ True],\n",
        "       [ True],\n",
        "       [ True],\n",
        "       [ True],\n",
        "       [ True],\n",
        "       [ True],\n",
        "       [False],\n",
        "       [ True],\n",
        "       [False],\n",
        "       [False],\n",
        "       [False],\n",
        "       [ True],\n",
        "       [ True],\n",
        "       [ True],\n",
        "       [ True],\n",
        "       [ True],\n",
        "       [ True],\n",
        "       [ True],\n",
        "       [ True],\n",
        "       [ True],\n",
        "       [ True],\n",
        "       [ True],\n",
        "       [ True],\n",
        "       [ True],\n",
        "       [ True],\n",
        "       [ True],\n",
        "       [ True],\n",
        "       [ True],\n",
        "       [ True],\n",
        "       [ True],\n",
        "       [ True],\n",
        "       [ True],\n",
        "       [ True],\n",
        "       [ True],\n",
        "       [ True],\n",
        "       [ True],\n",
        "       [ True],\n",
        "       [ True],\n",
        "       [ True],\n",
        "       [ True],\n",
        "       [ True],\n",
        "       [ True],\n",
        "       [ True],\n",
        "       [ True],\n",
        "       [False],\n",
        "       [ True],\n",
        "       [False],\n",
        "       [ True],\n",
        "       [ True],\n",
        "       [ True],\n",
        "       [ True],\n",
        "       [ True],\n",
        "       [ True],\n",
        "       [ True],\n",
        "       [ True],\n",
        "       [ True],\n",
        "       [ True],\n",
        "       [ True],\n",
        "       [False],\n",
        "       [ True],\n",
        "       [ True],\n",
        "       [ True],\n",
        "       [ True],\n",
        "       [ True],\n",
        "       [ True],\n",
        "       [ True],\n",
        "       [ True],\n",
        "       [ True],\n",
        "       [ True],\n",
        "       [ True],\n",
        "       [False],\n",
        "       [ True],\n",
        "       [ True],\n",
        "       [ True],\n",
        "       [ True],\n",
        "       [ True],\n",
        "       [ True],\n",
        "       [ True],\n",
        "       [ True],\n",
        "       [ True],\n",
        "       [ True],\n",
        "       [ True],\n",
        "       [ True],\n",
        "       [ True],\n",
        "       [False],\n",
        "       [ True],\n",
        "       [ True],\n",
        "       [ True],\n",
        "       [ True],\n",
        "       [ True],\n",
        "       [ True],\n",
        "       [ True],\n",
        "       [ True],\n",
        "       [ True],\n",
        "       [ True],\n",
        "       [ True],\n",
        "       [ True],\n",
        "       [ True],\n",
        "       [ True],\n",
        "       [ True],\n",
        "       [ True],\n",
        "       [False],\n",
        "       [ True],\n",
        "       [ True],\n",
        "       [ True],\n",
        "       [ True],\n",
        "       [ True],\n",
        "       [ True],\n",
        "       [ True],\n",
        "       [ True],\n",
        "       [ True],\n",
        "       [ True],\n",
        "       [ True],\n",
        "       [False],\n",
        "       [False],\n",
        "       [ True],\n",
        "       [ True],\n",
        "       [ True],\n",
        "       [ True],\n",
        "       [ True],\n",
        "       [False],\n",
        "       [False],\n",
        "       [False],\n",
        "       [ True],\n",
        "       [ True],\n",
        "       [ True],\n",
        "       [ True],\n",
        "       [ True],\n",
        "       [ True],\n",
        "       [ True],\n",
        "       [ True],\n",
        "       [ True],\n",
        "       [ True],\n",
        "       [ True],\n",
        "       [ True],\n",
        "       [ True],\n",
        "       [ True],\n",
        "       [ True],\n",
        "       [ True],\n",
        "       [ True],\n",
        "       [ True],\n",
        "       [ True],\n",
        "       [ True],\n",
        "       [ True],\n",
        "       [ True],\n",
        "       [ True],\n",
        "       [ True],\n",
        "       [ True],\n",
        "       [False],\n",
        "       [ True],\n",
        "       [ True],\n",
        "       [ True],\n",
        "       [ True],\n",
        "       [ True],\n",
        "       [False],\n",
        "       [ True],\n",
        "       [ True],\n",
        "       [False],\n",
        "       [ True],\n",
        "       [ True],\n",
        "       [ True],\n",
        "       [ True],\n",
        "       [ True],\n",
        "       [ True],\n",
        "       [ True],\n",
        "       [ True],\n",
        "       [ True]])\n"
      ],
      "metadata": {
        "id": "NTTY7YNUfjYR"
      },
      "execution_count": null,
      "outputs": []
    },
    {
      "cell_type": "code",
      "source": [
        "y_test=(y_test>0.5)\n",
        "y_test\n"
      ],
      "metadata": {
        "id": "kfsaz_T1fllW"
      },
      "execution_count": null,
      "outputs": []
    },
    {
      "cell_type": "code",
      "source": [
        "array([[ True],\n",
        "       [ True],\n",
        "       [ True],\n",
        "       [ True],\n",
        "       [ True],\n",
        "       [ True],\n",
        "       [ True],\n",
        "       [ True],\n",
        "       [ True],\n",
        "       [ True],\n",
        "       [ True],\n",
        "       [ True],\n",
        "       [ True],\n",
        "       [ True],\n",
        "       [ True],\n",
        "       [ True],\n",
        "       [False],\n",
        "       [ True],\n",
        "       [ True],\n",
        "       [ True],\n",
        "       [ True],\n",
        "       [ True],\n",
        "       [ True],\n",
        "       [ True],\n",
        "       [ True],\n",
        "       [ True],\n",
        "       [ True],\n",
        "       [ True],\n",
        "       [ True],\n",
        "       [ True],\n",
        "       [ True],\n",
        "       [ True],\n",
        "       [ True],\n",
        "       [ True],\n",
        "       [ True],\n",
        "       [ True],\n",
        "       [ True],\n",
        "       [ True],\n",
        "       [ True],\n",
        "       [ True],\n",
        "       [ True],\n",
        "       [ True],\n",
        "       [ True],\n",
        "       [ True],\n",
        "       [ True],\n",
        "       [ True],\n",
        "       [ True],\n",
        "       [ True],\n",
        "       [False],\n",
        "       [ True],\n",
        "       [ True],\n",
        "       [ True],\n",
        "       [ True],\n",
        "       [ True],\n",
        "       [False],\n",
        "       [ True],\n",
        "       [ True],\n",
        "       [ True],\n",
        "       [ True],\n",
        "       [ True],\n",
        "       [False],\n",
        "       [ True],\n",
        "       [ True],\n",
        "       [ True],\n",
        "       [ True],\n",
        "       [ True],\n",
        "       [ True],\n",
        "       [ True],\n",
        "       [ True],\n",
        "       [ True],\n",
        "       [ True],\n",
        "       [ True],\n",
        "       [ True],\n",
        "       [ True],\n",
        "       [ True],\n",
        "       [ True],\n",
        "       [ True],\n",
        "       [ True],\n",
        "       [ True],\n",
        "       [False]])"
      ],
      "metadata": {
        "id": "RYjWu6WtftKS"
      },
      "execution_count": null,
      "outputs": []
    },
    {
      "cell_type": "markdown",
      "source": [
        "Training and testing the model"
      ],
      "metadata": {
        "id": "-jYK2Esmfw4Q"
      }
    },
    {
      "cell_type": "code",
      "source": [
        "rom sklearn.linear_model._logistic import LogisticRegression\n",
        "classifier=LogisticRegression(random_state=0)\n",
        "lr=classifier.fit(x_train,y_train.ravel())"
      ],
      "metadata": {
        "id": "6sekMzZCf3FG"
      },
      "execution_count": null,
      "outputs": []
    },
    {
      "cell_type": "markdown",
      "source": [
        "/usr/local/lib/python3.7/dist-packages/sklearn/linear_model/_logistic.py:818: ConvergenceWarning: lbfgs failed to converge (status=1):\n",
        "STOP: TOTAL NO. of ITERATIONS REACHED LIMIT.\n",
        "\n",
        "Increase the number of iterations (max_iter) or scale the data as shown in:\n",
        "    https://scikit-learn.org/stable/modules/preprocessing.html\n",
        "Please also refer to the documentation for alternative solver options:\n",
        "    https://scikit-learn.org/stable/modules/linear_model.html#logistic-regression\n",
        "  extra_warning_msg=_LOGISTIC_SOLVER_CONVERGENCE_MSG,"
      ],
      "metadata": {
        "id": "dNYqTT9vf6SE"
      }
    },
    {
      "cell_type": "code",
      "source": [
        "y_pred=lr.predict(x_test)\n",
        "y_pred\n"
      ],
      "metadata": {
        "id": "zZwHVAmwf9s3"
      },
      "execution_count": null,
      "outputs": []
    },
    {
      "cell_type": "code",
      "source": [
        "array([ True,  True,  True,  True, False,  True,  True,  True,  True,\n",
        "        True,  True,  True,  True,  True,  True,  True,  True,  True,\n",
        "        True,  True,  True,  True,  True,  True,  True,  True,  True,\n",
        "        True,  True,  True,  True,  True,  True,  True,  True,  True,\n",
        "       False,  True,  True,  True,  True,  True,  True,  True,  True,\n",
        "        True,  True,  True,  True,  True,  True,  True,  True,  True,\n",
        "        True,  True,  True,  True,  True,  True,  True,  True,  True,\n",
        "        True,  True,  True,  True,  True,  True,  True,  True,  True,\n",
        "        True,  True,  True,  True,  True,  True,  True,  True])"
      ],
      "metadata": {
        "id": "TsIn_7gPgCH1"
      },
      "execution_count": null,
      "outputs": []
    },
    {
      "cell_type": "markdown",
      "source": [
        "Model Evaluation"
      ],
      "metadata": {
        "id": "m9o81riOgFmQ"
      }
    },
    {
      "cell_type": "code",
      "source": [
        "from sklearn.metrics import accuracy_score,roc_auc_score,confusion_matrix,recall_score\n",
        "print(\"Accuracy Score : {}\".format((accuracy_score(y_test,y_pred)*100)))\n",
        "print(\"Recall Score : {}\".format((recall_score(y_test,y_pred)*100)))\n",
        "print(\"ROC Score : {}\".format((roc_auc_score(y_test,y_pred)*100)))\n",
        "print(confusion_matrix(y_test,y_pred))\n"
      ],
      "metadata": {
        "id": "i3qNSxxHgJl1"
      },
      "execution_count": null,
      "outputs": []
    },
    {
      "cell_type": "code",
      "source": [
        "Accuracy Score : 91.25\n",
        "Recall Score : 97.33333333333334\n",
        "ROC Score : 48.66666666666667\n",
        "[[ 0  5]\n",
        " [ 2 73]]\n"
      ],
      "metadata": {
        "id": "-OLX6-3-gMdh"
      },
      "execution_count": null,
      "outputs": []
    },
    {
      "cell_type": "markdown",
      "source": [
        "Save the model"
      ],
      "metadata": {
        "id": "_giD-kFwgPOH"
      }
    },
    {
      "cell_type": "code",
      "source": [
        "import pickle\n",
        "pickle.dump(lr,open('university.pkl','wb'))\n",
        "model=pickle.load(open('university.pkl','rb'))\n"
      ],
      "metadata": {
        "id": "gaueh5J-gSFH"
      },
      "execution_count": null,
      "outputs": []
    },
    {
      "cell_type": "code",
      "source": [
        "model.predict([[320,100,3,3.5,3,6.6,0]])\n"
      ],
      "metadata": {
        "id": "RJy5w_JhgU7s"
      },
      "execution_count": null,
      "outputs": []
    },
    {
      "cell_type": "code",
      "source": [
        "array([False])"
      ],
      "metadata": {
        "id": "WYBIsBDwgYxJ"
      },
      "execution_count": null,
      "outputs": []
    }
  ]
}