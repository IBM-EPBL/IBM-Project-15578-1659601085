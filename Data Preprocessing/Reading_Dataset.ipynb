{
  "nbformat": 4,
  "nbformat_minor": 0,
  "metadata": {
    "colab": {
      "provenance": []
    },
    "kernelspec": {
      "name": "python3",
      "display_name": "Python 3"
    },
    "language_info": {
      "name": "python"
    }
  },
  "cells": [
    {
      "cell_type": "code",
      "execution_count": null,
      "metadata": {
        "id": "n6a1lOYcroaZ"
      },
      "outputs": [],
      "source": [
        "from google.colab import drive\n",
        "drive.mount('/content/drive')\n",
        "Mounted at /content/drive\n",
        "Reading the dataset\n",
        "\n",
        "import pandas as pd\n",
        "data=pd.read_csv('/content/drive/MyDrive/data/Admission_Predict.csv')\n",
        "data.head()\n",
        "Serial No.\tGRE Score\tTOEFL Score\tUniversity Rating\tSOP\tLOR\tCGPA\tResearch\tChance of Admit\n",
        "0\t1\t337\t118\t4\t4.5\t4.5\t9.65\t1\t0.92\n",
        "1\t2\t324\t107\t4\t4.0\t4.5\t8.87\t1\t0.76\n",
        "2\t3\t316\t104\t3\t3.0\t3.5\t8.00\t1\t0.72\n",
        "3\t4\t322\t110\t3\t3.5\t2.5\t8.67\t1\t0.80\n",
        "4\t5\t314\t103\t2\t2.0\t3.0\t8.21\t0\t0.65\n",
        "data.head(10)\n",
        "Serial No.\tGRE Score\tTOEFL Score\tUniversity Rating\tSOP\tLOR\tCGPA\tResearch\tChance of Admit\n",
        "0\t1\t337\t118\t4\t4.5\t4.5\t9.65\t1\t0.92\n",
        "1\t2\t324\t107\t4\t4.0\t4.5\t8.87\t1\t0.76\n",
        "2\t3\t316\t104\t3\t3.0\t3.5\t8.00\t1\t0.72\n",
        "3\t4\t322\t110\t3\t3.5\t2.5\t8.67\t1\t0.80\n",
        "4\t5\t314\t103\t2\t2.0\t3.0\t8.21\t0\t0.65\n",
        "5\t6\t330\t115\t5\t4.5\t3.0\t9.34\t1\t0.90\n",
        "6\t7\t321\t109\t3\t3.0\t4.0\t8.20\t1\t0.75\n",
        "7\t8\t308\t101\t2\t3.0\t4.0\t7.90\t0\t0.68\n",
        "8\t9\t302\t102\t1\t2.0\t1.5\t8.00\t0\t0.50\n",
        "9\t10\t323\t108\t3\t3.5\t3.0\t8.60\t0\t0.45\n",
        "data.tail()\n",
        "Serial No.\tGRE Score\tTOEFL Score\tUniversity Rating\tSOP\tLOR\tCGPA\tResearch\tChance of Admit\n",
        "395\t396\t324\t110\t3\t3.5\t3.5\t9.04\t1\t0.82\n",
        "396\t397\t325\t107\t3\t3.0\t3.5\t9.11\t1\t0.84\n",
        "397\t398\t330\t116\t4\t5.0\t4.5\t9.45\t1\t0.91\n",
        "398\t399\t312\t103\t3\t3.5\t4.0\t8.78\t0\t0.67\n",
        "399\t400\t333\t117\t4\t5.0\t4.0\t9.66\t1\t0.95\n",
        "data.tail(10)\n",
        "Serial No.\tGRE Score\tTOEFL Score\tUniversity Rating\tSOP\tLOR\tCGPA\tResearch\tChance of Admit\n",
        "390\t391\t314\t102\t2\t2.0\t2.5\t8.24\t0\t0.64\n",
        "391\t392\t318\t106\t3\t2.0\t3.0\t8.65\t0\t0.71\n",
        "392\t393\t326\t112\t4\t4.0\t3.5\t9.12\t1\t0.84\n",
        "393\t394\t317\t104\t2\t3.0\t3.0\t8.76\t0\t0.77\n",
        "394\t395\t329\t111\t4\t4.5\t4.0\t9.23\t1\t0.89\n",
        "395\t396\t324\t110\t3\t3.5\t3.5\t9.04\t1\t0.82\n",
        "396\t397\t325\t107\t3\t3.0\t3.5\t9.11\t1\t0.84\n",
        "397\t398\t330\t116\t4\t5.0\t4.5\t9.45\t1\t0.91\n",
        "398\t399\t312\t103\t3\t3.5\t4.0\t8.78\t0\t0.67\n",
        "399\t400\t333\t117\t4\t5.0\t4.0\t9.66\t1\t0.95\n",
        "data.info()\n",
        "RangeIndex: 400 entries, 0 to 399\n",
        "Data columns (total 9 columns):\n",
        " #   Column             Non-Null Count  Dtype  \n",
        "---  ------             --------------  -----  \n",
        " 0   Serial No.         400 non-null    int64  \n",
        " 1   GRE Score          400 non-null    int64  \n",
        " 2   TOEFL Score        400 non-null    int64  \n",
        " 3   University Rating  400 non-null    int64  \n",
        " 4   SOP                400 non-null    float64\n",
        " 5   LOR                400 non-null    float64\n",
        " 6   CGPA               400 non-null    float64\n",
        " 7   Research           400 non-null    int64  \n",
        " 8   Chance of Admit    400 non-null    float64\n",
        "dtypes: float64(4), int64(5)\n",
        "memory usage: 28.2 KB"
      ]
    }
  ]
}