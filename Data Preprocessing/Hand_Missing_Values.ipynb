{
  "nbformat": 4,
  "nbformat_minor": 0,
  "metadata": {
    "colab": {
      "provenance": []
    },
    "kernelspec": {
      "name": "python3",
      "display_name": "Python 3"
    },
    "language_info": {
      "name": "python"
    }
  },
  "cells": [
    {
      "cell_type": "code",
      "execution_count": null,
      "metadata": {
        "id": "QoYoYILcccdy"
      },
      "outputs": [],
      "source": [
        "import pandas as pd\n",
        "import numpy as np\n",
        "df=pd.DataFrame({'a':[1,2,np.nan],'b':[1,np.nan,np.nan],'c':[1,2,3]})\n",
        "\n",
        "df\n",
        "a\tb\tc\n",
        "0\t1.0\t1.0\t1\n",
        "1\t2.0\tNaN\t2\n",
        "2\tNaN\tNaN\t3\n",
        "df.isna()\n",
        "a\tb\tc\n",
        "0\tFalse\tFalse\tFalse\n",
        "1\tFalse\tTrue\tFalse\n",
        "2\tTrue\tTrue\tFalse\n",
        "df.isna().any()\n",
        "a     True\n",
        "b     True\n",
        "c    False\n",
        "dtype: bool\n",
        "df.isna().sum()\n",
        "a    1\n",
        "b    2\n",
        "c    0\n",
        "dtype: int64\n",
        "df.dropna()\n",
        "a\tb\tc\n",
        "0\t1.0\t1.0\t1\n",
        "df.mean()\n",
        "a    1.5\n",
        "b    1.0\n",
        "c    2.0\n",
        "dtype: float64\n",
        "df['a'].mean()\n",
        "1.5\n",
        "df['a'].fillna(df['a'].mean(),inplace=True)\n",
        "\n",
        "df\n",
        "a\tb\tc\n",
        "0\t1.0\t1.0\t1\n",
        "1\t2.0\tNaN\t2\n",
        "2\t1.5\tNaN\t3\n",
        "df['b'].fillna(df['b'].median(),inplace=True)\n",
        "\n",
        "df\n",
        "a\tb\tc\n",
        "0\t1.0\t1.0\t1\n",
        "1\t2.0\t1.0\t2\n",
        "2\t1.5\t1.0\t3"
      ]
    }
  ]
}