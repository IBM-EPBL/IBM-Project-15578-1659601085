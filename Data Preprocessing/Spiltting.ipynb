{
  "nbformat": 4,
  "nbformat_minor": 0,
  "metadata": {
    "colab": {
      "provenance": []
    },
    "kernelspec": {
      "name": "python3",
      "display_name": "Python 3"
    },
    "language_info": {
      "name": "python"
    }
  },
  "cells": [
    {
      "cell_type": "code",
      "execution_count": null,
      "metadata": {
        "id": "CsktVqMvdoXl"
      },
      "outputs": [],
      "source": [
        "Splitting dependent and independent variable\n",
        "\n",
        "import pandas as pd\n",
        "data=pd.read_csv('/content/drive/MyDrive/data/Admission_Predict.csv')\n",
        "data.head()\n",
        "Serial No.\tGRE Score\tTOEFL Score\tUniversity Rating\tSOP\tLOR\tCGPA\tResearch\tChance of Admit\n",
        "0\t1\t337\t118\t4\t4.5\t4.5\t9.65\t1\t0.92\n",
        "1\t2\t324\t107\t4\t4.0\t4.5\t8.87\t1\t0.76\n",
        "2\t3\t316\t104\t3\t3.0\t3.5\t8.00\t1\t0.72\n",
        "3\t4\t322\t110\t3\t3.5\t2.5\t8.67\t1\t0.80\n",
        "4\t5\t314\t103\t2\t2.0\t3.0\t8.21\t0\t0.65\n",
        "\n",
        "Independent Variable\n",
        "\n",
        "x=data.iloc[:,1:7]\n",
        "x\n",
        "GRE Score\tTOEFL Score\tUniversity Rating\tSOP\tLOR\tCGPA\n",
        "0\t337\t118\t4\t4.5\t4.5\t9.65\n",
        "1\t324\t107\t4\t4.0\t4.5\t8.87\n",
        "2\t316\t104\t3\t3.0\t3.5\t8.00\n",
        "3\t322\t110\t3\t3.5\t2.5\t8.67\n",
        "4\t314\t103\t2\t2.0\t3.0\t8.21\n",
        "...\t...\t...\t...\t...\t...\t...\n",
        "395\t324\t110\t3\t3.5\t3.5\t9.04\n",
        "396\t325\t107\t3\t3.0\t3.5\t9.11\n",
        "397\t330\t116\t4\t5.0\t4.5\t9.45\n",
        "398\t312\t103\t3\t3.5\t4.0\t8.78\n",
        "399\t333\t117\t4\t5.0\t4.0\t9.66\n",
        "400 rows × 6 columns\n",
        "\n",
        "Dependent Variable\n",
        "\n",
        "y=data.iloc[:,8]\n",
        "y\n",
        "0      0.92\n",
        "1      0.76\n",
        "2      0.72\n",
        "3      0.80\n",
        "4      0.65\n",
        "       ... \n",
        "395    0.82\n",
        "396    0.84\n",
        "397    0.91\n",
        "398    0.67\n",
        "399    0.95\n",
        "Name: Chance of Admit , Length: 400, dtype: float64"
      ]
    }
  ]
}