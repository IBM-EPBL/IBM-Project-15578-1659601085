{
  "nbformat": 4,
  "nbformat_minor": 0,
  "metadata": {
    "colab": {
      "provenance": []
    },
    "kernelspec": {
      "name": "python3",
      "display_name": "Python 3"
    },
    "language_info": {
      "name": "python"
    }
  },
  "cells": [
    {
      "cell_type": "code",
      "execution_count": null,
      "metadata": {
        "id": "nRD9J7ePcv8p"
      },
      "outputs": [],
      "source": [
        "from google.colab import drive\n",
        "drive.mount('/content/drive')\n",
        "Mounted at /content/drive\n",
        "\n",
        "Importing libraries\n",
        "import pandas as pd\n",
        "import numpy as np\n",
        "import matplotlib.pyplot as plt\n",
        "import seaborn as sns\n",
        "#load the dataset\n",
        "data=pd.read_csv('/content/Admission_Predict.csv')\n",
        "\n",
        "\n",
        "data\n",
        "Serial No.\tGRE Score\tTOEFL Score\tUniversity Rating\tSOP\tLOR\tCGPA\tResearch\tChance of Admit\n",
        "0\t1\t337\t118\t4\t4.5\t4.5\t9.65\t1\t0.92\n",
        "1\t2\t324\t107\t4\t4.0\t4.5\t8.87\t1\t0.76\n",
        "2\t3\t316\t104\t3\t3.0\t3.5\t8.00\t1\t0.72\n",
        "3\t4\t322\t110\t3\t3.5\t2.5\t8.67\t1\t0.80\n",
        "4\t5\t314\t103\t2\t2.0\t3.0\t8.21\t0\t0.65\n",
        "...\t...\t...\t...\t...\t...\t...\t...\t...\t...\n",
        "395\t396\t324\t110\t3\t3.5\t3.5\t9.04\t1\t0.82\n",
        "396\t397\t325\t107\t3\t3.0\t3.5\t9.11\t1\t0.84\n",
        "397\t398\t330\t116\t4\t5.0\t4.5\t9.45\t1\t0.91\n",
        "398\t399\t312\t103\t3\t3.5\t4.0\t8.78\t0\t0.67\n",
        "399\t400\t333\t117\t4\t5.0\t4.0\t9.66\t1\t0.95\n",
        "400 rows × 9 columns\n",
        "\n",
        "Splitting The Data Into Train And Test\n",
        "\n",
        "y=data['GRE Score']\n",
        "y\n",
        "0      337\n",
        "1      324\n",
        "2      316\n",
        "3      322\n",
        "4      314\n",
        "      ... \n",
        "395    324\n",
        "396    325\n",
        "397    330\n",
        "398    312\n",
        "399    333\n",
        "Name: GRE Score, Length: 400, dtype: int64\n",
        "x=data.drop(columns=['GRE Score'],axis=1)\n",
        "x.head()\n",
        "Serial No.\tTOEFL Score\tUniversity Rating\tSOP\tLOR\tCGPA\tResearch\tChance of Admit\n",
        "0\t1\t118\t4\t4.5\t4.5\t9.65\t1\t0.92\n",
        "1\t2\t107\t4\t4.0\t4.5\t8.87\t1\t0.76\n",
        "2\t3\t104\t3\t3.0\t3.5\t8.00\t1\t0.72\n",
        "3\t4\t110\t3\t3.5\t2.5\t8.67\t1\t0.80\n",
        "4\t5\t103\t2\t2.0\t3.0\t8.21\t0\t0.65\n",
        "from sklearn.model_selection import train_test_split\n",
        "x_train,x_test,y_train,y_test=train_test_split(x,y,test_size=0.2,random_state=50)\n",
        "x_train.shape\n",
        "(320, 8)\n",
        "x_test.shape\n",
        "(80, 8)\n",
        "y_train.shape\n",
        "(320,)\n",
        "y_test.shape\n",
        "(80,)\n",
        "print(x_train.shape,x_test.shape)\n",
        "(320, 8) (80, 8)"
      ]
    }
  ]
}